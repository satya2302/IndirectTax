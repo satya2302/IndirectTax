{
 "cells": [
  {
   "cell_type": "code",
   "execution_count": 22,
   "id": "5c3268fa",
   "metadata": {},
   "outputs": [],
   "source": [
    "\n",
    "from langchain_core.tools import tool\n",
    "from langgraph.graph import StateGraph, START, END\n",
    "from langgraph.graph.message import add_messages\n",
    "from langgraph.prebuilt import  tools_condition\n",
    "from langchain_groq import ChatGroq\n",
    "import pandas as pd\n",
    "import numpy as np\n",
    "\n"
   ]
  },
  {
   "cell_type": "code",
   "execution_count": 23,
   "id": "c63b1d4e",
   "metadata": {},
   "outputs": [],
   "source": [
    "\n",
    "def reclass(query: str)-> str:\n",
    "    \"\"\"Reclass of Tax.\n",
    "       Once solve inform the users about the number of cities reclassed resolved\n",
    "       dont need to show the results\n",
    "    \"\"\"\n",
    "    df = pd.read_csv(\"../data/journal_synthetic.csv\")\n",
    "    df.head()\n",
    "\n",
    "\n",
    "    # Feature engineering\n",
    "    df[\"GrossPerTaxable\"] = df[\"Gross\"] / (df[\"Taxable\"].replace(0, np.nan))\n",
    "    df[\"IsReclass\"] = (df[\"InputSource\"] == \"reclassin\").astype(int)\n",
    "    df[\"IsBalanceImport\"] = (df[\"InputSource\"] == \"balanceimport\").astype(int)\n",
    "    df[\"IsReclassOut\"] = (df[\"InputSource\"] == \"reclassout\").astype(int)\n",
    "    #df[\"MonthName\"] = df[\"Month\"].map({1:\"Jan\",2:\"Feb\",3:\"Mar\",4:\"Apr\",5:\"May\",6:\"Jun\",7:\"Jul\",8:\"Aug\",9:\"Sep\",10:\"Oct\",11:\"Nov\",12:\"Dec\"})\n",
    "    #df[\"YearMonth\"] = df[\"Year\"].astype(str) + \"-\" + df[\"Month\"].astype(str).str.zfill(2)\n",
    "    df[\"CityCounty\"] = df[\"City\"] + \"_\" + df[\"County\"]\n",
    "    df[\"LogGross\"] = np.log1p(df[\"Gross\"])\n",
    "    df[\"LogTaxable\"] = np.log1p(df[\"Taxable\"].abs())\n",
    "    df.head()\n",
    "\n",
    "    # Check for null values in df\n",
    "    df_nulls = df.isnull().sum()\n",
    "    print(\"Null values in df:\")\n",
    "   \n",
    "\n",
    "    from sklearn.ensemble import RandomForestClassifier\n",
    "    from sklearn.model_selection import train_test_split\n",
    "    from sklearn.preprocessing import LabelEncoder\n",
    "\n",
    "\n",
    "    # Prepare training data: only use rows where PlaceDetermination == \"reclass\"\n",
    "    train_df = df[df[\"PlaceDetermination\"] == \"reclass\"].copy()\n",
    "\n",
    "\n",
    "    # Encode categorical features with persistent encoders\n",
    "    cat_cols = [\"Region\", \"County\", \"Entity\", \"District\", \"CityCounty\"]\n",
    "    encoders = {}\n",
    "    for col in cat_cols:\n",
    "        le = LabelEncoder()\n",
    "        train_df[col] = le.fit_transform(train_df[col].astype(str))\n",
    "        encoders[col] = le\n",
    "    # Target encoding\n",
    "    city_le = LabelEncoder()\n",
    "    train_df[\"CityEncoded\"] = city_le.fit_transform(train_df[\"City\"].astype(str))\n",
    "\n",
    "\n",
    "    # Example feature extraction for df\n",
    "    # 1. Ratio features\n",
    "    df[\"GrossToTaxableRatio\"] = df[\"Gross\"] / (df[\"Taxable\"].replace(0, np.nan))\n",
    "    df[\"TaxableToGrossRatio\"] = df[\"Taxable\"] / (df[\"Gross\"].replace(0, np.nan))\n",
    "    # 2. Log transformations (if not already present)\n",
    "    if \"LogGross\" not in df.columns:\n",
    "        df[\"LogGross\"] = np.log1p(df[\"Gross\"])\n",
    "    if \"LogTaxable\" not in df.columns:\n",
    "        df[\"LogTaxable\"] = np.log1p(df[\"Taxable\"].abs())\n",
    "    # 3. Date-based features\n",
    "    # 4. Categorical encoding (example: create a combined city-county feature)\n",
    "    if \"CityCounty\" not in df.columns:\n",
    "        df[\"CityCounty\"] = df[\"City\"] + \"_\" + df[\"County\"].astype(str)\n",
    "    # 5. Binary features for InputSource\n",
    "    df[\"IsReclass\"] = (df[\"InputSource\"] == \"reclassin\").astype(int)\n",
    "    df[\"IsBalanceImport\"] = (df[\"InputSource\"] == \"balanceimport\").astype(int)\n",
    "    df[\"IsReclassOut\"] = (df[\"InputSource\"] == \"reclassout\").astype(int)\n",
    "    print(\"Feature extraction complete. New features added to df.\")\n",
    "\n",
    "    import matplotlib.pyplot as plt\n",
    "    import seaborn as sns\n",
    "    # Example: Distribution of Gross and Taxable\n",
    "    # Visualize Gross and Taxable by PlaceDetermination (reclass states)\n",
    "\n",
    "\n",
    "    from sklearn.model_selection import GridSearchCV\n",
    "    # Features for training\n",
    "    features = [\"Region\", \"County\", \"Entity\", \"District\", \"Gross\", \"Taxable\", \"TaxRate\",  \"GrossPerTaxable\", \"IsReclass\", \"IsBalanceImport\", \"IsReclassOut\", \"CityCounty\", \"LogGross\", \"LogTaxable\"]\n",
    "    X_train = train_df[features]\n",
    "    y_train = train_df[\"CityEncoded\"]\n",
    "    # Define parameter grid for RandomForest\n",
    "    param_grid = {\n",
    "        \"n_estimators\": [50, 100, 200],\n",
    "        \"max_depth\": [None, 10, 20, 30],\n",
    "        \"min_samples_split\": [2, 5, 10],\n",
    "        \"min_samples_leaf\": [1, 2, 4],\n",
    "        \"max_features\": [\"sqrt\", \"log2\"]\n",
    "    }\n",
    "    # Train model\n",
    "    rf = RandomForestClassifier( random_state=42, n_jobs=-1)\n",
    "    grid_search = GridSearchCV(rf, param_grid, cv=3, scoring=\"accuracy\", n_jobs=-1, verbose=2)\n",
    "    grid_search.fit(X_train, y_train)\n",
    "    print(\"Best parameters found:\", grid_search.best_params_)\n",
    "    print(f\"Best cross-validated accuracy: {grid_search.best_score_:.4f}\")\n",
    "    clf = grid_search.best_estimator_\n",
    "    # --- TESTING ---\n",
    "    # Read test data\n",
    "    test_df = pd.read_csv(\"../data/reconcillation_synthetic.csv\")\n",
    "    # Only test on rows with UnreportedTax > 0\n",
    "    test_df = test_df[test_df[\"UnreportedTax\"] > 0].copy()\n",
    "    test_df.head()\n",
    "\n",
    "\n",
    "\n",
    "    # For each test row, find all possible reclass rows from training data with the same Region and County\n",
    "    # Prepare test features (encode using training encoders)\n",
    "    for col in [\"Region\", \"County\", \"Entity\", \"District\"]:\n",
    "        if col not in test_df.columns:\n",
    "            test_df[col] = -1  # Fill missing columns with -1\n",
    "        le = encoders[col]\n",
    "        test_df[col] = test_df[col].astype(str).map(lambda x: le.transform([x])[0] if x in le.classes_ else -1)\n",
    "    #test_df[\"MonthName\"] = test_df[\"Month\"].map({1:\"Jan\",2:\"Feb\",3:\"Mar\",4:\"Apr\",5:\"May\",6:\"Jun\",7:\"Jul\",8:\"Aug\",9:\"Sep\",10:\"Oct\",11:\"Nov\",12:\"Dec\"})\n",
    "    #test_df[\"YearMonth\"] = test_df[\"Year\"].astype(str) + \"-\" + test_df[\"Month\"].astype(str).str.zfill(2)\n",
    "    test_df[\"CityCounty\"] = test_df[\"City\"] + \"_\" + test_df[\"County\"].astype(str)\n",
    "    for col in [\"CityCounty\"]:\n",
    "        le = encoders[col]\n",
    "        test_df[col] = test_df[col].astype(str).map(lambda x: le.transform([x])[0] if x in le.classes_ else -1)\n",
    "    test_df[\"LogGross\"] = np.log1p(test_df[\"Gross\"])\n",
    "    test_df[\"LogTaxable\"] = np.log1p(test_df[\"Taxable\"].abs())\n",
    "    test_df[\"GrossPerTaxable\"] = test_df[\"Gross\"] / (test_df[\"Taxable\"].replace(0, np.nan))\n",
    "    test_df[\"IsReclass\"] = 0\n",
    "    test_df[\"IsBalanceImport\"] = 0\n",
    "    test_df[\"IsReclassOut\"] = 0\n",
    "    # Predict city for each test row, restrict to same region and county (with debug)\n",
    "    predicted_cities = []\n",
    "    for idx, row in test_df.iterrows():\n",
    "        region_val = row[\"Region\"]\n",
    "        county_val = row[\"County\"]\n",
    "        # Find all possible city encodings from the same region and county in the training data\n",
    "        possible_cities = train_df[(train_df[\"Region\"] == region_val) & (train_df[\"County\"] == county_val)][\"CityEncoded\"].unique()\n",
    "        if len(possible_cities) == 0:\n",
    "            # Debug: print when fallback happens\n",
    "            print(f\"No city found for region={region_val}, county={county_val} in train. Fallback to all cities.\")\n",
    "            possible_cities = train_df[\"CityEncoded\"].unique()\n",
    "        # Use DataFrame to preserve feature names\n",
    "        row_df = pd.DataFrame([row[features]], columns=features)\n",
    "        probs = clf.predict_proba(row_df)[0]\n",
    "        mask = np.zeros_like(probs, dtype=bool)\n",
    "        mask[possible_cities] = True\n",
    "        probs_masked = probs * mask\n",
    "        if probs_masked.sum() == 0:\n",
    "            # Debug: print when fallback happens\n",
    "            print(f\"All masked out for region={region_val}, county={county_val}. Fallback to original prediction.\")\n",
    "            pred = np.argmax(probs)\n",
    "        else:\n",
    "            pred = np.argmax(probs_masked)\n",
    "        predicted_cities.append(pred)\n",
    "    test_df[\"PredictedCity\"] = city_le.inverse_transform(predicted_cities)\n",
    "    \n",
    "    test_df.to_csv(\"../data/reconcillation_synthetic_output.csv\", index=False)\n",
    "    \n",
    "    # Debug: Check if predicted city is in the same region and county as test row\n",
    "    check = []\n",
    "    for idx, row in test_df.iterrows():\n",
    "        pred_city = row[\"PredictedCity\"]\n",
    "        region_val = row[\"Region\"]\n",
    "        county_val = row[\"County\"]\n",
    "        # Find all cities in train for this region and county\n",
    "        valid_cities = train_df[(train_df[\"Region\"] == region_val) & (train_df[\"County\"] == county_val)][\"City\"].unique()\n",
    "        if pred_city not in valid_cities:\n",
    "            check.append((region_val, county_val, row[\"City\"], pred_city))\n",
    "        \n",
    "    # Debug: Check all rows, not just head()\n",
    "    output_df_full = test_df.copy()\n",
    "    return test_df"
   ]
  },
  {
   "cell_type": "code",
   "execution_count": 24,
   "id": "2e7e4853",
   "metadata": {},
   "outputs": [],
   "source": [
    "llm =ChatGroq(api_key =\"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\", model=\"meta-llama/llama-4-scout-17b-16e-instruct\")\n",
    "\n",
    "tools = [reclass]\n",
    "\n",
    "llm_with_tools=llm.bind_tools(tools)\n"
   ]
  },
  {
   "cell_type": "code",
   "execution_count": 25,
   "id": "dd6cd0bb",
   "metadata": {},
   "outputs": [],
   "source": [
    "from langgraph.graph import MessagesState\n",
    "from langchain_core.messages import HumanMessage,AIMessage\n",
    "\n",
    "# Node\n",
    "def assistant(state: MessagesState):\n",
    "   return {\"messages\": [llm_with_tools.invoke(state[\"messages\"])]}\n"
   ]
  },
  {
   "cell_type": "code",
   "execution_count": 26,
   "id": "25720726",
   "metadata": {},
   "outputs": [
    {
     "data": {
      "image/png": "[encoded data removed]",
      "text/plain": [
       "<IPython.core.display.Image object>"
      ]
     },
     "metadata": {},
     "output_type": "display_data"
    }
   ],
   "source": [
    "from langgraph.graph import START, StateGraph\n",
    "from langgraph.prebuilt import tools_condition, ToolNode\n",
    "from IPython.display import Image, display\n",
    "\n",
    "# Graph\n",
    "builder = StateGraph(MessagesState)\n",
    "\n",
    "builder.add_node(\"assistant\", assistant)\n",
    "builder.add_node(\"tools\", ToolNode(tools))\n",
    "\n",
    "builder.add_edge(START, \"assistant\")\n",
    "builder.add_conditional_edges(\n",
    "    \"assistant\",\n",
    "    tools_condition,\n",
    ")\n",
    "builder.add_edge(\"tools\", \"assistant\")\n",
    "\n",
    "react_graph = builder.compile()\n",
    "\n",
    "display(Image(react_graph.get_graph(xray=True).draw_mermaid_png()))"
   ]
  },
  {
   "cell_type": "code",
   "execution_count": 27,
   "id": "63993376",
   "metadata": {},
   "outputs": [
    {
     "data": {
      "image/png": "[encoded data removed]",
      "text/plain": [
       "<IPython.core.display.Image object>"
      ]
     },
     "metadata": {},
     "output_type": "display_data"
    }
   ],
   "source": [
    "from IPython.display import Image, display\n",
    "from langgraph.graph.message import add_messages\n",
    "\n",
    "try:\n",
    "    display(Image(react_graph.get_graph().draw_mermaid_png()))\n",
    "except Exception:\n",
    "    # This requires some extra dependencies and is optional\n",
    "    pass"
   ]
  },
  {
   "cell_type": "code",
   "execution_count": 29,
   "id": "3d18f9c4",
   "metadata": {},
   "outputs": [
    {
     "name": "stderr",
     "output_type": "stream",
     "text": [
      "c:\\Repos\\FinalYearProject\\IndirectTax\\.venv\\Lib\\site-packages\\pandas\\core\\arraylike.py:399: RuntimeWarning: invalid value encountered in log1p\n",
      "  result = getattr(ufunc, method)(*inputs, **kwargs)\n"
     ]
    },
    {
     "name": "stdout",
     "output_type": "stream",
     "text": [
      "Null values in df:\n",
      "Feature extraction complete. New features added to df.\n",
      "Fitting 3 folds for each of 216 candidates, totalling 648 fits\n"
     ]
    },
    {
     "name": "stderr",
     "output_type": "stream",
     "text": [
      "c:\\Repos\\FinalYearProject\\IndirectTax\\.venv\\Lib\\site-packages\\sklearn\\model_selection\\_split.py:811: UserWarning: The least populated class in y has only 1 members, which is less than n_splits=3.\n",
      "  warnings.warn(\n"
     ]
    },
    {
     "name": "stdout",
     "output_type": "stream",
     "text": [
      "Best parameters found: {'max_depth': None, 'max_features': 'sqrt', 'min_samples_leaf': 1, 'min_samples_split': 2, 'n_estimators': 100}\n",
      "Best cross-validated accuracy: 0.9033\n",
      "All masked out for region=3, county=6. Fallback to original prediction.\n",
      "All masked out for region=0, county=15. Fallback to original prediction.\n",
      "\n",
      "The reclassification of tax issues resulted in resolving the tax concerns for several cities. Specifically:\n",
      "\n",
      "-  Chula Vista\n",
      "-  Cary\n",
      "-  Troy\n",
      "-  Arlington \n",
      "-  Monroeville \n",
      "-  Arlington \n",
      "-  Boca Raton \n",
      "-  Warren \n",
      "-  Arlington \n",
      "-  Boca Raton \n",
      "\n",
      "There were 10 cities where tax reclassification was addressed.\n"
     ]
    }
   ],
   "source": [
    "\n",
    "\n",
    "messages = [HumanMessage(content=\"solve the reclass tax issue \")]\n",
    "messages = react_graph.invoke({\"messages\": messages})\n",
    "for m in messages['messages']:\n",
    "    if isinstance(m, AIMessage):\n",
    "     print(m.content)\n",
    "            \n",
    "\n",
    "\n"
   ]
  },
  {
   "cell_type": "code",
   "execution_count": null,
   "id": "07417b57",
   "metadata": {},
   "outputs": [],
   "source": []
  },
  {
   "cell_type": "code",
   "execution_count": null,
   "id": "24d44852",
   "metadata": {},
   "outputs": [],
   "source": []
  },
  {
   "cell_type": "code",
   "execution_count": null,
   "id": "c64be3bf",
   "metadata": {},
   "outputs": [],
   "source": []
  }
 ],
 "metadata": {
  "kernelspec": {
   "display_name": ".venv",
   "language": "python",
   "name": "python3"
  },
  "language_info": {
   "codemirror_mode": {
    "name": "ipython",
    "version": 3
   },
   "file_extension": ".py",
   "mimetype": "text/x-python",
   "name": "python",
   "nbconvert_exporter": "python",
   "pygments_lexer": "ipython3",
   "version": "3.13.3"
  }
 },
 "nbformat": 4,
 "nbformat_minor": 5
}
